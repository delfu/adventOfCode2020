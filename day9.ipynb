{
 "metadata": {
  "language_info": {
   "codemirror_mode": {
    "name": "ipython",
    "version": 3
   },
   "file_extension": ".py",
   "mimetype": "text/x-python",
   "name": "python",
   "nbconvert_exporter": "python",
   "pygments_lexer": "ipython3",
   "version": "3.6.10-final"
  },
  "orig_nbformat": 2,
  "kernelspec": {
   "name": "python3",
   "display_name": "Python 3"
  }
 },
 "nbformat": 4,
 "nbformat_minor": 2,
 "cells": [
  {
   "source": [
    "Day 9"
   ],
   "cell_type": "markdown",
   "metadata": {}
  },
  {
   "source": [
    "This is super unoptimal but whatever. we just do O(n*m) scan for the subset"
   ],
   "cell_type": "markdown",
   "metadata": {}
  },
  {
   "cell_type": "code",
   "execution_count": 6,
   "metadata": {},
   "outputs": [
    {
     "output_type": "execute_result",
     "data": {
      "text/plain": [
       "217430975"
      ]
     },
     "metadata": {},
     "execution_count": 6
    }
   ],
   "source": [
    "import import_ipynb\n",
    "import util\n",
    "\n",
    "def solution1():\n",
    "    preamble_len = 25\n",
    "    cases = [int(case) for case in util.input_reader(\"day9.input\", 1)]\n",
    "\n",
    "    for i in range(preamble_len, len(cases)):\n",
    "        two_sum = set()\n",
    "        target = cases[i]\n",
    "        found = False\n",
    "        for j in range(i-preamble_len, i):\n",
    "            if cases[j] in two_sum:\n",
    "                found = True\n",
    "            else:\n",
    "                two_sum.add(target - cases[j])\n",
    "        if not found:\n",
    "            return target\n",
    "\n",
    "solution1()"
   ]
  },
  {
   "source": [
    "This is also super unoptimal. we can do better with a more linear progression of the range, by moving the front by 1 if the sum exceeds but only rollback the back by x , instead of rollback to `start+1`"
   ],
   "cell_type": "markdown",
   "metadata": {}
  },
  {
   "cell_type": "code",
   "execution_count": 7,
   "metadata": {},
   "outputs": [
    {
     "output_type": "execute_result",
     "data": {
      "text/plain": [
       "28509180"
      ]
     },
     "metadata": {},
     "execution_count": 7
    }
   ],
   "source": [
    "def solution2():\n",
    "    cases = [int(case) for case in util.input_reader(\"day9.input\", 1)]\n",
    "    i, j = 0, 1\n",
    "    target = solution1()\n",
    "    while i < len(cases) and j <= len(cases):\n",
    "        s = sum(cases[i:j])\n",
    "        if s == target:\n",
    "            return min(cases[i:j]) + max(cases[i:j])\n",
    "        elif s < target:\n",
    "            j += 1\n",
    "        else: \n",
    "            i += 1\n",
    "            j = i+1\n",
    "\n",
    "solution2()"
   ]
  },
  {
   "cell_type": "code",
   "execution_count": null,
   "metadata": {},
   "outputs": [],
   "source": []
  }
 ]
}