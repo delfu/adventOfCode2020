{
 "metadata": {
  "language_info": {
   "codemirror_mode": {
    "name": "ipython",
    "version": 3
   },
   "file_extension": ".py",
   "mimetype": "text/x-python",
   "name": "python",
   "nbconvert_exporter": "python",
   "pygments_lexer": "ipython3",
   "version": "3.6.10-final"
  },
  "orig_nbformat": 2,
  "kernelspec": {
   "name": "python3",
   "display_name": "Python 3",
   "language": "python"
  }
 },
 "nbformat": 4,
 "nbformat_minor": 2,
 "cells": [
  {
   "source": [
    "Day 16"
   ],
   "cell_type": "markdown",
   "metadata": {}
  },
  {
   "cell_type": "code",
   "execution_count": 1,
   "metadata": {},
   "outputs": [
    {
     "output_type": "stream",
     "name": "stdout",
     "text": [
      "importing Jupyter notebook from util.ipynb\n"
     ]
    }
   ],
   "source": [
    "import import_ipynb\n",
    "import util\n"
   ]
  },
  {
   "cell_type": "code",
   "execution_count": 44,
   "metadata": {
    "tags": []
   },
   "outputs": [
    {
     "output_type": "stream",
     "name": "stdout",
     "text": [
      "{'departure location': [range(39, 716), range(734, 950)], 'departure station': [range(30, 153), range(160, 960)], 'departure platform': [range(34, 781), range(798, 956)], 'departure track': [range(32, 675), range(699, 953)], 'departure date': [range(38, 56), range(74, 953)], 'departure time': [range(45, 534), range(547, 971)], 'arrival location': [range(27, 169), range(191, 970)], 'arrival station': [range(43, 586), range(599, 954)], 'arrival platform': [range(40, 832), range(837, 962)], 'arrival track': [range(37, 294), range(301, 975)], 'class': [range(40, 90), range(112, 951)], 'duration': [range(25, 601), range(625, 971)], 'price': [range(45, 319), range(341, 955)], 'route': [range(40, 899), range(912, 969)], 'row': [range(38, 873), range(881, 959)], 'seat': [range(37, 822), range(831, 959)], 'train': [range(26, 344), range(365, 957)], 'type': [range(37, 858), range(872, 961)], 'wagon': [range(36, 426), range(445, 973)], 'zone': [range(44, 271), range(286, 968)]}\n235\n"
     ]
    },
    {
     "output_type": "execute_result",
     "data": {
      "text/plain": [
       "21956"
      ]
     },
     "metadata": {},
     "execution_count": 44
    }
   ],
   "source": [
    "def process(filename = \"day16.input\"):\n",
    "    cases = [case for case in util.input_reader(filename, 1)]\n",
    "    fields = []\n",
    "    yours = None\n",
    "    nearby = []\n",
    "    splitter = 0\n",
    "    for case in cases:\n",
    "        if case == \"\":\n",
    "            splitter += 1\n",
    "            continue\n",
    "        if splitter == 0:\n",
    "            fields.append(case)\n",
    "        elif splitter == 1:\n",
    "            yours = case\n",
    "        else:\n",
    "            nearby.append(case)\n",
    "    fields_dic = {}\n",
    "    for field in fields:\n",
    "        name, ranges = field.split(\":\")\n",
    "        ranges = [r.strip().split('-') for r in ranges.split(\"or\")]\n",
    "        ranges = [range(int(r[0]), int(r[1])+1) for r in ranges]\n",
    "        fields_dic[name] = ranges\n",
    "    return fields_dic, yours, nearby\n",
    "\n",
    "def solution1():\n",
    "    fields, yours, nearby = process()\n",
    "    invalids = []\n",
    "    print(fields)\n",
    "    for near in nearby:\n",
    "        for n in near.split(\",\"):\n",
    "            n = int(n)\n",
    "            if not any([(n in r) for key in fields for r in fields[key]]):\n",
    "                invalids.append(n)\n",
    "    print(len(nearby))\n",
    "    return sum(invalids)\n",
    "\n",
    "\n",
    "solution1()"
   ]
  },
  {
   "cell_type": "code",
   "execution_count": 72,
   "metadata": {
    "tags": []
   },
   "outputs": [
    {
     "output_type": "stream",
     "name": "stdout",
     "text": [
      "{'duration': 12, 'arrival track': 19, 'arrival station': 16, 'zone': 7, 'route': 11, 'train': 6, 'departure time': 15, 'departure date': 17, 'departure location': 10, 'departure track': 14, 'departure platform': 4, 'departure station': 18, 'type': 1, 'price': 2, 'arrival location': 8, 'row': 9, 'wagon': 3, 'seat': 5, 'class': 13, 'arrival platform': 0}\ndeparture time 199\ndeparture date 83\ndeparture location 89\ndeparture track 163\ndeparture platform 113\ndeparture station 137\n"
     ]
    },
    {
     "output_type": "execute_result",
     "data": {
      "text/plain": [
       "784"
      ]
     },
     "metadata": {},
     "execution_count": 72
    }
   ],
   "source": [
    "def solution2():\n",
    "    fields, yours, nearby = process(\"day16.input\")\n",
    "    filtered_nearby = [yours]\n",
    "\n",
    "    for near in nearby:\n",
    "        valid = True\n",
    "        for n in near.split(\",\"):\n",
    "            n = int(n)\n",
    "            if not any([(n in r) for key in fields for r in fields[key]]):\n",
    "                valid = False\n",
    "        if valid:\n",
    "            filtered_nearby.append(near)\n",
    "\n",
    "    for key in fields:\n",
    "        fields[key] = (fields[key], set([i for i in range(len(yours.split(\",\")))]))\n",
    "\n",
    "    for ticket in filtered_nearby:\n",
    "        for i, n in enumerate(ticket.split(\",\")):\n",
    "            n = int(n)\n",
    "            for key in fields:\n",
    "                if all([n not in r for r in fields[key][0]]):\n",
    "                    if i in fields[key][1]:\n",
    "                        fields[key][1].remove(i)\n",
    "    solved = {}\n",
    "    while len(fields) > 0 or not nothing_changed:\n",
    "        nothing_changed = True\n",
    "        keys = list(fields.keys())\n",
    "        for key in keys:\n",
    "            if len(fields[key][1]) == 1:\n",
    "                solved[key] = fields[key][1].pop()\n",
    "                for to_delete in keys:\n",
    "                    if to_delete in fields and solved[key] in fields[to_delete][1]:\n",
    "                        fields[to_delete][1].remove(solved[key])\n",
    "                fields.pop(key)\n",
    "                nothing_changed = False\n",
    "    yours = yours.split(\",\")\n",
    "    retval = 1\n",
    "    print(solved)\n",
    "    for s in solved:\n",
    "        if \"departure\" in s:\n",
    "            print(s, yours[solved[s]])\n",
    "            retval *= int(yours[solved[s]])\n",
    "    return retval\n",
    "\n",
    "solution2()"
   ]
  },
  {
   "cell_type": "code",
   "execution_count": null,
   "metadata": {},
   "outputs": [],
   "source": []
  }
 ]
}