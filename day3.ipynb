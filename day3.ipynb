{
 "metadata": {
  "language_info": {
   "codemirror_mode": {
    "name": "ipython",
    "version": 3
   },
   "file_extension": ".py",
   "mimetype": "text/x-python",
   "name": "python",
   "nbconvert_exporter": "python",
   "pygments_lexer": "ipython3",
   "version": "3.6.10-final"
  },
  "orig_nbformat": 2,
  "kernelspec": {
   "name": "python3",
   "display_name": "Python 3"
  }
 },
 "nbformat": 4,
 "nbformat_minor": 2,
 "cells": [
  {
   "source": [
    "Day 3\n",
    "\n",
    "this is some grid problem. Count number of special char in a `right 3 down 1` pattern. If you exit the map, loop around (so modulo)\n"
   ],
   "cell_type": "markdown",
   "metadata": {}
  },
  {
   "cell_type": "code",
   "execution_count": 44,
   "metadata": {},
   "outputs": [
    {
     "output_type": "execute_result",
     "data": {
      "text/plain": [
       "7"
      ]
     },
     "metadata": {},
     "execution_count": 44
    }
   ],
   "source": [
    "sample = \"\"\"\n",
    "..##.......\n",
    "#...#...#..\n",
    ".#....#..#.\n",
    "..#.#...#.#\n",
    ".#...##..#.\n",
    "..#.##.....\n",
    ".#.#.#....#\n",
    ".#........#\n",
    "#.##...#...\n",
    "#...##....#\n",
    ".#..#...#.#\n",
    "\"\"\"\n",
    "\n",
    "def solve(pattern, x_inc=3, y_inc=1):\n",
    "    x = 0\n",
    "    y = 0\n",
    "    w = len(pattern[0])\n",
    "    h = len(pattern)\n",
    "\n",
    "    trees = 0\n",
    "    while y < h:\n",
    "        x = (x + x_inc) % w\n",
    "        y += y_inc\n",
    "        if y >= h:\n",
    "            break\n",
    "        trees += 1 if pattern[y][x] == '#' else 0\n",
    "    return trees\n",
    "\n",
    "sample = sample.strip().split(\"\\n\")\n",
    "solve(sample)"
   ]
  },
  {
   "cell_type": "code",
   "execution_count": 45,
   "metadata": {},
   "outputs": [
    {
     "output_type": "execute_result",
     "data": {
      "text/plain": [
       "[289]"
      ]
     },
     "metadata": {},
     "execution_count": 45
    }
   ],
   "source": [
    "from util import input_reader\n",
    "def solution1():\n",
    "    def case(entry):\n",
    "        return solve(entry)\n",
    "    return input_reader('day3.input', case, -1)\n",
    "solution1()"
   ]
  },
  {
   "source": [
    "new cases:\n",
    "\n",
    "- Right 1, down 1.\n",
    "- Right 3, down 1.\n",
    "- Right 5, down 1.\n",
    "- Right 7, down 1.\n",
    "- Right 1, down 2."
   ],
   "cell_type": "markdown",
   "metadata": {}
  },
  {
   "cell_type": "code",
   "execution_count": 46,
   "metadata": {},
   "outputs": [
    {
     "output_type": "execute_result",
     "data": {
      "text/plain": [
       "336"
      ]
     },
     "metadata": {},
     "execution_count": 46
    }
   ],
   "source": [
    "from functools import reduce\n",
    "from operator import mul\n",
    "increments = [[1, 1], [3, 1], [5, 1], [7, 1], [1, 2]]\n",
    "\n",
    "reduce(mul, map(lambda x: solve(sample, x[0], x[1]), increments))"
   ]
  },
  {
   "cell_type": "code",
   "execution_count": 47,
   "metadata": {},
   "outputs": [
    {
     "output_type": "execute_result",
     "data": {
      "text/plain": [
       "[5522401584]"
      ]
     },
     "metadata": {},
     "execution_count": 47
    }
   ],
   "source": [
    "from util import input_reader\n",
    "def solution2():\n",
    "    def case(entry):\n",
    "        return reduce(mul, map(lambda x: solve(entry, x[0], x[1]), increments))\n",
    "    return input_reader('day3.input', case, -1)\n",
    "solution2()"
   ]
  },
  {
   "cell_type": "code",
   "execution_count": null,
   "metadata": {},
   "outputs": [],
   "source": []
  }
 ]
}