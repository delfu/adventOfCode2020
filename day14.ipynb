{
 "metadata": {
  "language_info": {
   "codemirror_mode": {
    "name": "ipython",
    "version": 3
   },
   "file_extension": ".py",
   "mimetype": "text/x-python",
   "name": "python",
   "nbconvert_exporter": "python",
   "pygments_lexer": "ipython3",
   "version": "3.6.10-final"
  },
  "orig_nbformat": 2,
  "kernelspec": {
   "name": "python3",
   "display_name": "Python 3",
   "language": "python"
  }
 },
 "nbformat": 4,
 "nbformat_minor": 2,
 "cells": [
  {
   "source": [
    "Day 14"
   ],
   "cell_type": "markdown",
   "metadata": {}
  },
  {
   "cell_type": "code",
   "execution_count": 39,
   "metadata": {},
   "outputs": [
    {
     "output_type": "execute_result",
     "data": {
      "text/plain": [
       "7440382076205"
      ]
     },
     "metadata": {},
     "execution_count": 39
    }
   ],
   "source": [
    "import import_ipynb\n",
    "import util\n",
    "\n",
    "def solution1():\n",
    "    input = [case for case in util.input_reader(\"day14.input\", 1)]\n",
    "\n",
    "    mem = {}\n",
    "    mask = \"\"\n",
    "    for case in input:\n",
    "        if case[:4] == \"mask\":\n",
    "            mask = case.split(\"=\")[1].strip()\n",
    "            continue\n",
    "        instruction = case.split(\"=\")\n",
    "        instruction = [int(instruction[0].strip()[4:-1]), int(instruction[1].strip())]\n",
    "\n",
    "        binary_instruction = \"{0:b}\".format(instruction[1]).rjust(len(mask), '0')\n",
    "        new_val = \"\"\n",
    "        for i in range(len(mask)):\n",
    "            m = mask[i]\n",
    "            v = binary_instruction[i]\n",
    "            new_val += m if m != \"X\" else v\n",
    "        mem[instruction[0]] = int(new_val, 2)\n",
    "    return sum(mem.values())\n",
    "solution1()"
   ]
  },
  {
   "cell_type": "code",
   "execution_count": 46,
   "metadata": {},
   "outputs": [
    {
     "output_type": "execute_result",
     "data": {
      "text/plain": [
       "4200656704538"
      ]
     },
     "metadata": {},
     "execution_count": 46
    }
   ],
   "source": [
    "def solution2():\n",
    "    input = [case for case in util.input_reader(\"day14.input\", 1)]\n",
    "    mem = {}\n",
    "    mask = \"\"\n",
    "    for case in input:\n",
    "        if case[:4] == \"mask\":\n",
    "            mask = case.split(\"=\")[1].strip()\n",
    "            continue\n",
    "        instruction = case.split(\"=\")\n",
    "        addr, val = int(instruction[0].strip()[4:-1]), int(instruction[1].strip())\n",
    "        binary_addr = \"{0:b}\".format(addr).rjust(len(mask), '0')\n",
    "\n",
    "        new_addr = \"\"\n",
    "        for i in range(len(mask)):\n",
    "            m = mask[i]\n",
    "            a = binary_addr[i]\n",
    "            new_addr += m if m != \"0\" else a\n",
    "\n",
    "        write_floating(mem, new_addr, val, 0)\n",
    "\n",
    "    return sum(mem.values())\n",
    "\n",
    "def write_floating(mem, addr, val, index):\n",
    "    if index >= len(addr):\n",
    "        mem[int(addr, 2)] = val\n",
    "        return mem\n",
    "    if addr[index] == \"X\":\n",
    "        mem = write_floating(mem, addr[:index] + \"0\" + addr[index+1:], val, index + 1)\n",
    "        mem = write_floating(mem, addr[:index] + \"1\" + addr[index+1:], val, index + 1)\n",
    "        return mem\n",
    "    return write_floating(mem, addr, val, index + 1)\n",
    "\n",
    "solution2()"
   ]
  },
  {
   "cell_type": "code",
   "execution_count": null,
   "metadata": {},
   "outputs": [],
   "source": []
  }
 ]
}