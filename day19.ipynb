{
 "metadata": {
  "language_info": {
   "codemirror_mode": {
    "name": "ipython",
    "version": 3
   },
   "file_extension": ".py",
   "mimetype": "text/x-python",
   "name": "python",
   "nbconvert_exporter": "python",
   "pygments_lexer": "ipython3",
   "version": "3.6.10-final"
  },
  "orig_nbformat": 2,
  "kernelspec": {
   "name": "python3",
   "display_name": "Python 3",
   "language": "python"
  }
 },
 "nbformat": 4,
 "nbformat_minor": 2,
 "cells": [
  {
   "source": [
    "Day 19"
   ],
   "cell_type": "markdown",
   "metadata": {}
  },
  {
   "cell_type": "code",
   "execution_count": 1,
   "metadata": {},
   "outputs": [
    {
     "output_type": "stream",
     "name": "stdout",
     "text": [
      "importing Jupyter notebook from util.ipynb\n"
     ]
    }
   ],
   "source": [
    "import import_ipynb\n",
    "import util\n",
    "import re\n"
   ]
  },
  {
   "cell_type": "code",
   "execution_count": 76,
   "metadata": {},
   "outputs": [],
   "source": [
    "def expand_rules(rules, start, expanded):\n",
    "    if start not in rules:\n",
    "        return start\n",
    "    if start in expanded:\n",
    "        return expanded[start]\n",
    "    rule = rules[start]\n",
    "    if type(rule) == str:\n",
    "        expanded[start] = rule\n",
    "        return rule\n",
    "    else:\n",
    "        e = \"(\" + \"|\".join([\"\".join([expand_rules(rules, i, expanded) for i in sub]) for sub in rule]) + \")\"\n",
    "        expanded[start] = e\n",
    "        return e\n",
    "            \n",
    "def parse(rule):\n",
    "    match = re.search('^\"(.*)\"$', rule)\n",
    "    if match is not None:\n",
    "        return match[1]\n",
    "    return [list(m.strip().split(\" \")) for m in rule.split(\"|\")]\n",
    "    \n",
    "    return False"
   ]
  },
  {
   "cell_type": "code",
   "execution_count": 73,
   "metadata": {},
   "outputs": [
    {
     "output_type": "execute_result",
     "data": {
      "text/plain": [
       "269"
      ]
     },
     "metadata": {},
     "execution_count": 73
    }
   ],
   "source": [
    "def solution1():\n",
    "    rules, cases = [line for line in util.input_reader(\"day19.input\", -1, \"\")]\n",
    "    lookup = {}\n",
    "    for rule in rules:\n",
    "        i, rule = rule.split(\":\")\n",
    "        rule = rule.strip()\n",
    "        rule = parse(rule)\n",
    "        lookup[i] = rule\n",
    "    expanded = {}\n",
    "    expand_rules(lookup, \"0\", expanded)  \n",
    "    expanded[\"0\"] = \"^\" +expanded[\"0\"] + \"$\"\n",
    "\n",
    "    s = 0\n",
    "    for case in cases:\n",
    "        s += 1 if re.search(expanded[\"0\"], case) is not None else 0\n",
    "\n",
    "    return s\n",
    "\n",
    "solution1()"
   ]
  },
  {
   "cell_type": "code",
   "execution_count": 101,
   "metadata": {},
   "outputs": [
    {
     "output_type": "execute_result",
     "data": {
      "text/plain": [
       "403"
      ]
     },
     "metadata": {},
     "execution_count": 101
    }
   ],
   "source": [
    "def solution2():\n",
    "    rules, cases = [line for line in util.input_reader(\"day19.input\", -1, \"\")]\n",
    "    lookup = {}\n",
    "    for rule in rules:\n",
    "        i, rule = rule.split(\":\")\n",
    "        rule = rule.strip()\n",
    "        rule = parse(rule)\n",
    "        lookup[i] = rule\n",
    "    # some special rules\n",
    "    # 8: 42 | 42 8\n",
    "    # 11: 42 31 | 42 11 31\n",
    "    lookup[\"8\"] = [['42', \"+\"]]\n",
    "    # there's no way to enforce the same number of repeats. we'll do this the dumb way\n",
    "    lookup[\"11\"] = [('42 ' * i + \"31 \" * i).strip().split(\" \") for i in range(1, 10)]\n",
    "\n",
    "    expanded = {}\n",
    "    expand_rules(lookup, \"0\", expanded)  \n",
    "    expanded[\"0\"] = \"^\" +expanded[\"0\"] + \"$\"\n",
    "\n",
    "    s = 0\n",
    "    for case in cases:\n",
    "        if re.search(expanded[\"0\"], case) is not None:\n",
    "            s+= 1\n",
    "    return s\n",
    "solution2()"
   ]
  }
 ]
}