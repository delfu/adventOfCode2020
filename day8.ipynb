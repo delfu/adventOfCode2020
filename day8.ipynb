{
 "metadata": {
  "language_info": {
   "codemirror_mode": {
    "name": "ipython",
    "version": 3
   },
   "file_extension": ".py",
   "mimetype": "text/x-python",
   "name": "python",
   "nbconvert_exporter": "python",
   "pygments_lexer": "ipython3",
   "version": "3.6.10-final"
  },
  "orig_nbformat": 2,
  "kernelspec": {
   "name": "python3",
   "display_name": "Python 3"
  }
 },
 "nbformat": 4,
 "nbformat_minor": 2,
 "cells": [
  {
   "source": [
    "Day 8\n"
   ],
   "cell_type": "markdown",
   "metadata": {}
  },
  {
   "cell_type": "code",
   "execution_count": 48,
   "metadata": {},
   "outputs": [
    {
     "output_type": "stream",
     "name": "stdout",
     "text": [
      "1420\n"
     ]
    }
   ],
   "source": [
    "import import_ipynb\n",
    "import util\n",
    "\n",
    "def interpret(instruction, num, pointer, acc):\n",
    "    if instruction == \"nop\":\n",
    "        return acc, pointer + 1\n",
    "    if instruction == \"acc\":\n",
    "        return acc + num, pointer + 1\n",
    "    if instruction == \"jmp\":\n",
    "        return acc, pointer + num\n",
    "\n",
    "def run_program(program):\n",
    "    seen = set()\n",
    "    i = 0\n",
    "    acc = 0\n",
    "\n",
    "    while i < len(program):\n",
    "        instruction, num = program[i]\n",
    "        id = instruction + str(i)\n",
    "        if id in seen:\n",
    "            break\n",
    "\n",
    "        seen.add(id)\n",
    "        sign = num[0]\n",
    "        num = int(num[1:]) if sign == \"+\" else -int(num[1:])\n",
    "\n",
    "        acc, i = interpret(instruction, num, i, acc)\n",
    "    return acc, i, i >= len(program)\n",
    "\n",
    "def solution1():\n",
    "    program = [instruction.split(\" \") for instruction in util.input_reader(\"day8.input\", 1)]\n",
    "    acc, i, terminated = run_program(program)\n",
    "    print(acc)\n",
    "\n",
    "solution1()"
   ]
  },
  {
   "source": [
    "i'll just try all the permutations by modifying each command. \n",
    "python assignments are shallow copies, so we need to make sure to deep copy"
   ],
   "cell_type": "markdown",
   "metadata": {}
  },
  {
   "cell_type": "code",
   "execution_count": 49,
   "metadata": {},
   "outputs": [
    {
     "output_type": "stream",
     "name": "stdout",
     "text": [
      "1245\n"
     ]
    }
   ],
   "source": [
    "import copy\n",
    "def solution2():\n",
    "    program = [instruction.split(\" \") for instruction in util.input_reader(\"day8.input\", 1)]\n",
    "    for p in range(len(program)):\n",
    "        modded = copy.deepcopy(program)\n",
    "        if modded[p][0] != \"nop\" and modded[p][0] != \"jmp\":\n",
    "            continue\n",
    "\n",
    "        modded[p][0] = \"jmp\" if modded[p][0] == \"nop\" else \"nop\"\n",
    "        acc, i, terminated = run_program(modded)\n",
    "        if terminated:\n",
    "            print(acc)\n",
    "            break\n",
    "\n",
    "solution2()"
   ]
  },
  {
   "cell_type": "code",
   "execution_count": null,
   "metadata": {},
   "outputs": [],
   "source": []
  }
 ]
}