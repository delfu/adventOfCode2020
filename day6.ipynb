{
 "metadata": {
  "language_info": {
   "codemirror_mode": {
    "name": "ipython",
    "version": 3
   },
   "file_extension": ".py",
   "mimetype": "text/x-python",
   "name": "python",
   "nbconvert_exporter": "python",
   "pygments_lexer": "ipython3",
   "version": "3.6.10-final"
  },
  "orig_nbformat": 2,
  "kernelspec": {
   "name": "python3",
   "display_name": "Python 3"
  }
 },
 "nbformat": 4,
 "nbformat_minor": 2,
 "cells": [
  {
   "source": [
    "Day 6"
   ],
   "cell_type": "markdown",
   "metadata": {}
  },
  {
   "cell_type": "code",
   "execution_count": 1,
   "metadata": {},
   "outputs": [
    {
     "output_type": "stream",
     "name": "stdout",
     "text": [
      "importing Jupyter notebook from util.ipynb\n"
     ]
    },
    {
     "output_type": "execute_result",
     "data": {
      "text/plain": [
       "11"
      ]
     },
     "metadata": {},
     "execution_count": 1
    }
   ],
   "source": [
    "from functools import reduce\n",
    "import import_ipynb\n",
    "import util\n",
    "\n",
    "def solution1():\n",
    "    count = 0\n",
    "    for case in util.input_reader(\"day6.input\", -1, \"\"):\n",
    "        yes = set()\n",
    "        for person in case:\n",
    "            for y in person:\n",
    "                yes.add(y)\n",
    "        count += len(yes)\n",
    "    return count\n",
    "solution1()\n"
   ]
  },
  {
   "cell_type": "code",
   "execution_count": 3,
   "metadata": {
    "tags": []
   },
   "outputs": [
    {
     "output_type": "execute_result",
     "data": {
      "text/plain": [
       "6"
      ]
     },
     "metadata": {},
     "execution_count": 3
    }
   ],
   "source": [
    "def solution2():\n",
    "    count = 0\n",
    "    for case in util.input_reader(\"day6.input\", -1, \"\"):\n",
    "        yes = {}\n",
    "        for person in case:\n",
    "            for y in person:\n",
    "                if y in yes:\n",
    "                    yes[y] += 1\n",
    "                else:\n",
    "                    yes[y] = 1\n",
    "        count += len(dict(filter(lambda elem: elem[1] == len(case), yes.items())))\n",
    "    return count\n",
    "solution2()"
   ]
  },
  {
   "cell_type": "code",
   "execution_count": null,
   "metadata": {},
   "outputs": [],
   "source": []
  }
 ]
}