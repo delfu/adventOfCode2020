{
 "metadata": {
  "language_info": {
   "codemirror_mode": {
    "name": "ipython",
    "version": 3
   },
   "file_extension": ".py",
   "mimetype": "text/x-python",
   "name": "python",
   "nbconvert_exporter": "python",
   "pygments_lexer": "ipython3",
   "version": "3.6.10-final"
  },
  "orig_nbformat": 2,
  "kernelspec": {
   "name": "python3",
   "display_name": "Python 3"
  }
 },
 "nbformat": 4,
 "nbformat_minor": 2,
 "cells": [
  {
   "source": [
    "Day 5"
   ],
   "cell_type": "markdown",
   "metadata": {}
  },
  {
   "cell_type": "code",
   "execution_count": 12,
   "metadata": {},
   "outputs": [
    {
     "output_type": "stream",
     "name": "stdout",
     "text": [
      "567\n119\n820\n"
     ]
    }
   ],
   "source": [
    "from functools import reduce\n",
    "import import_ipynb\n",
    "import util\n",
    "\n",
    "sample = \"FBFBBFFRLR\"\n",
    "\n",
    "\n",
    "\n",
    "def partition(string, left_key, right_key, r):\n",
    "    left = r[0]\n",
    "    right = r[1]\n",
    "    for c in string:\n",
    "        if c == left_key:\n",
    "            right = (right - left) / 2 + left\n",
    "        elif c == right_key:\n",
    "            left = right - (right - left) / 2\n",
    "    return int(left)\n",
    "\n",
    "\n",
    "def solution(string):\n",
    "    row = partition(string[:7], \"F\", \"B\", [0, 128])\n",
    "    col = partition(string[7:], \"L\", \"R\", [0, 8])\n",
    "    return row * 8 + col\n",
    "\n",
    "print(solution(\"BFFFBBFRRR\"))\n",
    "print(solution(\"FFFBBBFRRR\"))\n",
    "print(solution(\"BBFFBBFRLL\"))"
   ]
  },
  {
   "cell_type": "code",
   "execution_count": 13,
   "metadata": {},
   "outputs": [
    {
     "output_type": "stream",
     "name": "stdout",
     "text": [
      "987\n"
     ]
    }
   ],
   "source": [
    "def find_highest_id():\n",
    "    ids = [solution(id) for id in util.input_reader('day5.input', 1)]\n",
    "    print(max(ids))\n",
    "find_highest_id()"
   ]
  },
  {
   "cell_type": "code",
   "execution_count": 15,
   "metadata": {},
   "outputs": [
    {
     "output_type": "stream",
     "name": "stdout",
     "text": [
      "{0, 1, 2, 3, 4, 5, 6, 7, 8, 9, 10, 11, 12, 13, 14, 15, 16, 17, 18, 19, 20, 21, 22, 23, 24, 25, 26, 27, 28, 29, 30, 31, 32, 33, 34, 35, 36, 37, 38, 39, 40, 41, 42, 43, 44, 45, 46, 47, 48, 49, 50, 51, 52, 53, 54, 55, 56, 57, 58, 59, 60, 61, 62, 63, 64, 65, 66, 67, 68, 69, 70, 71, 72, 73, 74, 75, 76, 77, 78, 79, 80, 81, 82, 83, 84, 85, 86, 87, 88, 89, 90, 91, 92, 93, 94, 95, 603, 988, 989, 990, 991, 992, 993, 994, 995, 996, 997, 998, 999, 1000, 1001, 1002, 1003, 1004, 1005, 1006, 1007, 1008, 1009, 1010, 1011, 1012, 1013, 1014, 1015, 1016, 1017, 1018, 1019, 1020, 1021, 1022, 1023}\n"
     ]
    }
   ],
   "source": [
    "def my_seat():\n",
    "    ids = [solution(id) for id in util.input_reader('day5.input', 1)]\n",
    "    missing = set()\n",
    "    for i in range(1024):\n",
    "        if i not in ids:\n",
    "            missing.add(i)\n",
    "    print(missing)\n",
    "my_seat()"
   ]
  },
  {
   "source": [
    "603 is the first number that left and right are present"
   ],
   "cell_type": "markdown",
   "metadata": {}
  }
 ]
}