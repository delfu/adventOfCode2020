{
 "metadata": {
  "language_info": {
   "codemirror_mode": {
    "name": "ipython",
    "version": 3
   },
   "file_extension": ".py",
   "mimetype": "text/x-python",
   "name": "python",
   "nbconvert_exporter": "python",
   "pygments_lexer": "ipython3",
   "version": "3.6.10-final"
  },
  "orig_nbformat": 2,
  "kernelspec": {
   "name": "python3",
   "display_name": "Python 3"
  }
 },
 "nbformat": 4,
 "nbformat_minor": 2,
 "cells": [
  {
   "source": [
    "Day 13"
   ],
   "cell_type": "markdown",
   "metadata": {}
  },
  {
   "cell_type": "code",
   "execution_count": 10,
   "metadata": {},
   "outputs": [
    {
     "output_type": "execute_result",
     "data": {
      "text/plain": [
       "3246"
      ]
     },
     "metadata": {},
     "execution_count": 10
    }
   ],
   "source": [
    "import import_ipynb\n",
    "import util\n",
    "import math\n",
    "\n",
    "def solution1():\n",
    "    start_time, bus_ids = util.input_reader(\"day13.input\", 1)\n",
    "    start_time = int(start_time)\n",
    "    bus_ids = sorted(list(map(int, filter(lambda x: x != 'x', bus_ids.split(',')))))\n",
    "    t = 0\n",
    "    bus_times = [math.ceil(start_time / b) * b for b in bus_ids]\n",
    "    return bus_ids[bus_times.index(min(bus_times))] * (min(bus_times) - start_time)\n",
    "solution1()"
   ]
  },
  {
   "cell_type": "code",
   "execution_count": 81,
   "metadata": {
    "tags": []
   },
   "outputs": [
    {
     "output_type": "stream",
     "name": "stdout",
     "text": [
      "(779210, 11630)\n"
     ]
    }
   ],
   "source": [
    "def solution2():\n",
    "    start_time, bus_ids = util.input_reader(\"day13.input\", 1)\n",
    "    bus_ids = list(map(lambda b: int(b) if b != \"x\" else True, bus_ids.split(',')))\n",
    "    # we need to find t such that t % 7 == 1 and t % 13 == 1 and t % 59 == 4 , ... \n",
    "    multiplier = 1\n",
    "\n",
    "    while True:\n",
    "        t = multiplier * bus_ids[0]\n",
    "        if all([True if b is True else -t % b == i for i, b in enumerate(bus_ids)]):\n",
    "            break\n",
    "        multiplier += 1\n",
    "    return t, multiplier\n",
    "    \n",
    "print(solution2())"
   ]
  },
  {
   "source": [
    "this solution works but is too slow for the input"
   ],
   "cell_type": "markdown",
   "metadata": {}
  },
  {
   "source": [
    "apparently it's something called the chinese remainder theorem. Where if all numbers are coprime, there exists a solution to this problem. "
   ],
   "cell_type": "markdown",
   "metadata": {}
  },
  {
   "cell_type": "code",
   "execution_count": 133,
   "metadata": {
    "tags": []
   },
   "outputs": [
    {
     "output_type": "stream",
     "name": "stdout",
     "text": [
      "1010182346291467\n"
     ]
    }
   ],
   "source": [
    "from functools import reduce\n",
    "def chinese_remainder(n, a):\n",
    "    sum = 0\n",
    "    prod = reduce(lambda a, b: a*b, n)\n",
    "    for n_i, a_i in zip(n, a):\n",
    "        p = prod // n_i\n",
    "        sum += a_i * mul_inv(p, n_i) * p\n",
    "    return sum % prod\n",
    " \n",
    "def mul_inv(a, b):\n",
    "    b0 = b\n",
    "    x0, x1 = 0, 1\n",
    "    if b == 1: return 1\n",
    "    while a > 1:\n",
    "        q = a // b\n",
    "        a, b = b, a%b\n",
    "        x0, x1 = x1 - q * x0, x0\n",
    "    if x1 < 0: x1 += b0\n",
    "    return x1\n",
    "\n",
    "def solution2():\n",
    "    start_time, bus_ids = util.input_reader(\"day13.input\", 1)\n",
    "    bus_ids = list(map(lambda b: int(b) if b != \"x\" else True, bus_ids.split(',')))\n",
    "\n",
    "    n = []\n",
    "    a = []\n",
    "    for i, b in enumerate(bus_ids):\n",
    "        if b is True:\n",
    "            continue\n",
    "        a.append(b - i % b)\n",
    "        n.append(b)\n",
    "\n",
    "    return chinese_remainder(n, a)\n",
    "    \n",
    "print(solution2())"
   ]
  }
 ]
}