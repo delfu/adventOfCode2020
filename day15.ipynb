{
 "metadata": {
  "language_info": {
   "codemirror_mode": {
    "name": "ipython",
    "version": 3
   },
   "file_extension": ".py",
   "mimetype": "text/x-python",
   "name": "python",
   "nbconvert_exporter": "python",
   "pygments_lexer": "ipython3",
   "version": "3.6.10-final"
  },
  "orig_nbformat": 2,
  "kernelspec": {
   "name": "python3",
   "display_name": "Python 3",
   "language": "python"
  }
 },
 "nbformat": 4,
 "nbformat_minor": 2,
 "cells": [
  {
   "source": [
    "Day 15"
   ],
   "cell_type": "markdown",
   "metadata": {}
  },
  {
   "cell_type": "code",
   "execution_count": 2,
   "metadata": {},
   "outputs": [
    {
     "output_type": "stream",
     "name": "stdout",
     "text": [
      "importing Jupyter notebook from util.ipynb\n"
     ]
    }
   ],
   "source": [
    "import import_ipynb\n",
    "import util"
   ]
  },
  {
   "cell_type": "code",
   "execution_count": 32,
   "metadata": {
    "tags": []
   },
   "outputs": [
    {
     "output_type": "execute_result",
     "data": {
      "text/plain": [
       "694"
      ]
     },
     "metadata": {},
     "execution_count": 32
    }
   ],
   "source": [
    "def solution1(input, end):\n",
    "    memo = {}\n",
    "    cases = [int(n) for n in input.split(',')]\n",
    "    last = None\n",
    "    for i, c in enumerate(cases):\n",
    "        memo[c] = [i+1]\n",
    "        last = c\n",
    "    \n",
    "    for i in range(len(cases) + 1, end+1):\n",
    "        if len(memo[last]) >= 2:\n",
    "            curr = memo[last][0] - memo[last][1]\n",
    "        else:\n",
    "            curr = 0\n",
    "        \n",
    "        last = curr\n",
    "\n",
    "        if curr not in memo:\n",
    "            memo[curr] = [i]\n",
    "        else:\n",
    "            memo[curr] = [i, memo[curr][0]]\n",
    "\n",
    "    return last\n",
    "\n",
    "solution1(\"17,1,3,16,19,0\", 2020)"
   ]
  },
  {
   "cell_type": "code",
   "execution_count": 33,
   "metadata": {},
   "outputs": [
    {
     "output_type": "execute_result",
     "data": {
      "text/plain": [
       "175594"
      ]
     },
     "metadata": {},
     "execution_count": 33
    }
   ],
   "source": [
    "solution1(\"0,3,6\", 30000000)"
   ]
  },
  {
   "cell_type": "code",
   "execution_count": 34,
   "metadata": {},
   "outputs": [
    {
     "output_type": "execute_result",
     "data": {
      "text/plain": [
       "21768614"
      ]
     },
     "metadata": {},
     "execution_count": 34
    }
   ],
   "source": [
    "solution1(\"17,1,3,16,19,0\", 30000000)"
   ]
  }
 ]
}