{
 "metadata": {
  "language_info": {
   "codemirror_mode": {
    "name": "ipython",
    "version": 3
   },
   "file_extension": ".py",
   "mimetype": "text/x-python",
   "name": "python",
   "nbconvert_exporter": "python",
   "pygments_lexer": "ipython3",
   "version": "3.6.10-final"
  },
  "orig_nbformat": 2,
  "kernelspec": {
   "name": "python3",
   "display_name": "Python 3"
  }
 },
 "nbformat": 4,
 "nbformat_minor": 2,
 "cells": [
  {
   "source": [
    "This is a set of utility functions to make running test cases easier\n",
    "\n",
    "To load you need to run: \n"
   ],
   "cell_type": "markdown",
   "metadata": {}
  },
  {
   "cell_type": "code",
   "execution_count": null,
   "metadata": {},
   "outputs": [],
   "source": [
    "# import import_ipynb\n",
    "# from util import input_reader"
   ]
  },
  {
   "cell_type": "code",
   "execution_count": 90,
   "metadata": {
    "tags": []
   },
   "outputs": [],
   "source": [
    "def input_reader(inputFilePath, num_lines_per_case=-1, separator=None):\n",
    "    \"\"\"A test runner, that will yield results as it goes\n",
    "    Arguments:\n",
    "    inputFilePath: path to the test input\n",
    "    num_lines_per_case: set to -1 if the whole file is just one case\n",
    "    separator: if present, separator will determine how cases are split. Use \"\" for empty line\n",
    "\n",
    "    Return:\n",
    "    a generator\n",
    "    \"\"\"\n",
    "    with open(inputFilePath) as inputFile:\n",
    "        case_builder = []\n",
    "        for line in inputFile:\n",
    "            line = line.strip()\n",
    "            if len(case_builder) == num_lines_per_case or line == separator:\n",
    "                yield case_builder[0] if num_lines_per_case == 1 else case_builder\n",
    "                case_builder = []\n",
    "            if line != separator:\n",
    "                case_builder.append(line.strip())\n",
    "        if num_lines_per_case == -1:\n",
    "            yield case_builder\n",
    "        if len(case_builder) == num_lines_per_case:\n",
    "            yield case_builder if num_lines_per_case > 1 else case_builder[0]"
   ]
  },
  {
   "cell_type": "code",
   "execution_count": 91,
   "metadata": {},
   "outputs": [],
   "source": [
    "def test():\n",
    "    assert [len(l) for l in input_reader(\"util.input\", 1)] == [3, 3, 3, 3, 3, 3, 4, 3, 3]\n",
    "    # if you need the entire file, you'll get an array of 9 lines\n",
    "    assert len(next(input_reader(\"util.input\", -1))) == 9\n",
    "    assert [l for l in input_reader(\"util.input\", -1, \"####\")] == [['1 a', '2 b', '3 c', '4 d', '5 e', '6 f'], ['7 g', '8 h']]\n",
    "\n",
    "    assert [l for l in input_reader(\"util.input2\", -1, \"\")] == [[\"1\", \"2\", \"3\"], [\"4\", \"5\"]]\n",
    "test()"
   ]
  },
  {
   "cell_type": "code",
   "execution_count": null,
   "metadata": {},
   "outputs": [],
   "source": []
  }
 ]
}