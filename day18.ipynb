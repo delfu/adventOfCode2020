{
 "metadata": {
  "language_info": {
   "codemirror_mode": {
    "name": "ipython",
    "version": 3
   },
   "file_extension": ".py",
   "mimetype": "text/x-python",
   "name": "python",
   "nbconvert_exporter": "python",
   "pygments_lexer": "ipython3",
   "version": "3.6.10-final"
  },
  "orig_nbformat": 2,
  "kernelspec": {
   "name": "python3",
   "display_name": "Python 3",
   "language": "python"
  }
 },
 "nbformat": 4,
 "nbformat_minor": 2,
 "cells": [
  {
   "source": [
    "Day 18"
   ],
   "cell_type": "markdown",
   "metadata": {}
  },
  {
   "cell_type": "code",
   "execution_count": 1,
   "metadata": {},
   "outputs": [
    {
     "output_type": "stream",
     "name": "stdout",
     "text": [
      "importing Jupyter notebook from util.ipynb\n"
     ]
    }
   ],
   "source": [
    "import import_ipynb\n",
    "import util"
   ]
  },
  {
   "cell_type": "code",
   "execution_count": 63,
   "metadata": {},
   "outputs": [
    {
     "output_type": "execute_result",
     "data": {
      "text/plain": [
       "2743012121210"
      ]
     },
     "metadata": {},
     "execution_count": 63
    }
   ],
   "source": [
    "# assume no parens\n",
    "def evaluate(expr):\n",
    "    acc = \"\"\n",
    "    a, b, op = None, None, None\n",
    "    for i in range(len(expr) + 1):\n",
    "        if i == len(expr) or expr[i] == \" \":\n",
    "            if a is not None and b is not None and op is not None:\n",
    "                a = run_op(a, b, op)\n",
    "                b = None\n",
    "                op = None\n",
    "            elif a is None:\n",
    "                a = int(acc)\n",
    "            elif op is None:\n",
    "                op = acc\n",
    "            else:\n",
    "                a = run_op(a, int(acc), op)\n",
    "                b = None\n",
    "                op = None\n",
    "            acc = \"\"\n",
    "        else:\n",
    "            acc += expr[i]\n",
    "    return a\n",
    "\n",
    "def is_op(text):\n",
    "    return text == \"*\" or text == \"+\" or text == \"-\" or text == \"/\" \n",
    "\n",
    "def run_op(a, b, op):\n",
    "    if op == \"*\":\n",
    "        return a * b\n",
    "    if op == \"+\":\n",
    "        return a + b\n",
    "    if op == \"-\":\n",
    "        return a - b\n",
    "    if op == \"/\":\n",
    "        return a / b\n",
    "\n",
    "def solution1():\n",
    "    cases = [case for case in util.input_reader(\"day18.input\", 1)]\n",
    "    import re\n",
    "    s = 0\n",
    "    for case in cases:\n",
    "        case = case.strip()\n",
    "        while True:\n",
    "            inner = re.search(\"\\([\\d *+]+\\)\", case)\n",
    "            if inner is not None:\n",
    "                case = case[:inner.start()] + str(evaluate(case[inner.start()+1: inner.end()-1])) + case[inner.end():]\n",
    "            else:\n",
    "                break\n",
    "        s += int(evaluate(case))\n",
    "    return s\n",
    "\n",
    "solution1()"
   ]
  },
  {
   "cell_type": "code",
   "execution_count": 93,
   "metadata": {},
   "outputs": [
    {
     "output_type": "execute_result",
     "data": {
      "text/plain": [
       "65658760783597"
      ]
     },
     "metadata": {},
     "execution_count": 93
    }
   ],
   "source": [
    "import re\n",
    "def evaluate2(expr):\n",
    "    while True:\n",
    "        inner = re.search(\"\\d+ \\+ \\d+\", expr)\n",
    "        if inner is not None:\n",
    "            expr = expr[:inner.start()] + str(evaluate(expr[inner.start():inner.end()])) + expr[inner.end():]\n",
    "        else:\n",
    "            break\n",
    "    return evaluate(expr)\n",
    "     \n",
    "\n",
    "def solution2():\n",
    "    cases = [case for case in util.input_reader(\"day18.input\", 1)]\n",
    "    import re\n",
    "    s = 0\n",
    "    for case in cases:\n",
    "        case = case.strip()\n",
    "        while True:\n",
    "            inner = re.search(\"\\([\\d *+]+\\)\", case)\n",
    "            if inner is not None:\n",
    "                case = case[:inner.start()] + str(evaluate2(case[inner.start()+1: inner.end()-1])) + case[inner.end():]\n",
    "            else:\n",
    "                break\n",
    "        s += int(evaluate2(case))\n",
    "    return s\n",
    "solution2()"
   ]
  },
  {
   "cell_type": "code",
   "execution_count": null,
   "metadata": {},
   "outputs": [],
   "source": []
  }
 ]
}