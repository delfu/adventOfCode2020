{
 "metadata": {
  "language_info": {
   "codemirror_mode": {
    "name": "ipython",
    "version": 3
   },
   "file_extension": ".py",
   "mimetype": "text/x-python",
   "name": "python",
   "nbconvert_exporter": "python",
   "pygments_lexer": "ipython3",
   "version": "3.6.10-final"
  },
  "orig_nbformat": 2,
  "kernelspec": {
   "name": "python3",
   "display_name": "Python 3"
  }
 },
 "nbformat": 4,
 "nbformat_minor": 2,
 "cells": [
  {
   "source": [
    "Day 11\n",
    "\n",
    "this is essentially the game of life\n"
   ],
   "cell_type": "markdown",
   "metadata": {}
  },
  {
   "cell_type": "code",
   "execution_count": 12,
   "metadata": {},
   "outputs": [
    {
     "output_type": "execute_result",
     "data": {
      "text/plain": [
       "2222"
      ]
     },
     "metadata": {},
     "execution_count": 12
    }
   ],
   "source": [
    "import import_ipynb\n",
    "import util\n",
    "from copy import deepcopy\n",
    "\n",
    "def print_map(seats):\n",
    "    for row in seats:\n",
    "        print(row)\n",
    "\n",
    "def solution1():\n",
    "    seat_map = [list(row) for row in util.input_reader(\"day11.input\", 1)]\n",
    "    seat_map2 = deepcopy(seat_map)\n",
    "    directions = [[0, 1], [1, 0], [0, -1], [-1, 0], [1, 1], [-1, -1], [1, -1], [-1, 1]]\n",
    "    num_rows = len(seat_map)\n",
    "    num_cols = len(seat_map[0])\n",
    "\n",
    "    while True:\n",
    "        something_changed = False\n",
    "        for r in range(num_rows):\n",
    "            for c in range(num_cols):\n",
    "                if seat_map[r][c] == \".\":\n",
    "                    continue\n",
    "                s = sum([1 if r+d[0] >= 0 and r+d[0] < num_rows and c+d[1] >= 0 and c+d[1] < num_cols and seat_map[r+d[0]][c+d[1]] == \"#\" else 0 for d in directions])\n",
    "                if seat_map[r][c] == \"L\" and s == 0:\n",
    "                    seat_map2[r][c] = \"#\"\n",
    "                    something_changed = True\n",
    "                elif seat_map[r][c] == \"#\" and s >= 4:\n",
    "                    seat_map2[r][c] = \"L\"\n",
    "                    something_changed = True\n",
    "        seat_map = deepcopy(seat_map2)\n",
    "        if not something_changed:\n",
    "            break\n",
    "    \n",
    "    count = 0\n",
    "    for row in seat_map:\n",
    "        for s in row:\n",
    "            count += 1 if s == \"#\" else 0\n",
    "    return count\n",
    "\n",
    "solution1()"
   ]
  },
  {
   "source": [
    "same idea but instead of a fixed direction map, we need to precompute directions for each seat and save that"
   ],
   "cell_type": "markdown",
   "metadata": {}
  },
  {
   "cell_type": "code",
   "execution_count": 41,
   "metadata": {
    "tags": []
   },
   "outputs": [
    {
     "output_type": "execute_result",
     "data": {
      "text/plain": [
       "2032"
      ]
     },
     "metadata": {},
     "execution_count": 41
    }
   ],
   "source": [
    "def build_directions_map(seat_map, num_rows, num_cols):\n",
    "    directions = [[0, 1], [1, 0], [0, -1], [-1, 0], [1, 1], [-1, -1], [1, -1], [-1, 1]]\n",
    "    directions_map = deepcopy(seat_map)\n",
    "    for r in range(num_rows):\n",
    "        for c in range(num_cols):\n",
    "            neighbor_directions = []\n",
    "            if seat_map[r][c] == \".\":\n",
    "                directions_map[r][c] = neighbor_directions\n",
    "                continue\n",
    "\n",
    "            for direction in directions:\n",
    "                d = deepcopy(direction)\n",
    "                while bounds_check(r, c, d, num_rows, num_cols):\n",
    "                    if seat_map[r+d[0]][c+d[1]] == \"#\" or seat_map[r+d[0]][c+d[1]] == \"L\":\n",
    "                        neighbor_directions.append(d)\n",
    "                        break\n",
    "                    d[0] += direction[0]\n",
    "                    d[1] += direction[1]\n",
    "            directions_map[r][c] = neighbor_directions\n",
    "    return directions_map\n",
    "\n",
    "def bounds_check(r, c, d, num_rows, num_cols):\n",
    "    return r+d[0] >= 0 and r+d[0] < num_rows and c+d[1] >= 0 and c+d[1] < num_cols\n",
    "\n",
    "def solution2():\n",
    "    seat_map = [list(row) for row in util.input_reader(\"day11.input\", 1)]\n",
    "    seat_map2 = deepcopy(seat_map)\n",
    "    num_rows = len(seat_map)\n",
    "    num_cols = len(seat_map[0])\n",
    "\n",
    "    directions_map = build_directions_map(seat_map, num_rows, num_cols)\n",
    "\n",
    "    while True:\n",
    "        something_changed = False\n",
    "        for r in range(num_rows):\n",
    "            for c in range(num_cols):\n",
    "                if seat_map[r][c] == \".\":\n",
    "                    continue\n",
    "                neighbor_directions = directions_map[r][c]\n",
    "                s = sum([1 if seat_map[r+d[0]][c+d[1]] == \"#\" else 0 for d in neighbor_directions])\n",
    "                if seat_map[r][c] == \"L\" and s == 0:\n",
    "                    seat_map2[r][c] = \"#\"\n",
    "                    something_changed = True\n",
    "                elif seat_map[r][c] == \"#\" and s >= 5:\n",
    "                    seat_map2[r][c] = \"L\"\n",
    "                    something_changed = True\n",
    "                else:\n",
    "                    seat_map2[r][c] = seat_map[r][c]\n",
    "        seat_map, seat_map2 = seat_map2, seat_map\n",
    "        if not something_changed:\n",
    "            break\n",
    "    return sum([sum([1 if s == \"#\" else 0 for s in row]) for row in seat_map])\n",
    "solution2()"
   ]
  },
  {
   "source": [
    "let's do some profiling. hypothesis, matrix swapping instead of deepcopy will be much faster. This time is the old time (deepcopy)"
   ],
   "cell_type": "markdown",
   "metadata": {}
  },
  {
   "cell_type": "code",
   "execution_count": 28,
   "metadata": {},
   "outputs": [
    {
     "output_type": "stream",
     "name": "stdout",
     "text": [
      "2.01 s ± 14.5 ms per loop (mean ± std. dev. of 7 runs, 1 loop each)\n"
     ]
    }
   ],
   "source": [
    "%timeit solution2()"
   ]
  },
  {
   "source": [
    "this is matrix swapping"
   ],
   "cell_type": "markdown",
   "metadata": {}
  },
  {
   "cell_type": "code",
   "execution_count": 42,
   "metadata": {},
   "outputs": [
    {
     "output_type": "stream",
     "name": "stdout",
     "text": [
      "1.63 s ± 18.1 ms per loop (mean ± std. dev. of 7 runs, 1 loop each)\n"
     ]
    }
   ],
   "source": [
    "%timeit solution2()"
   ]
  },
  {
   "source": [
    "seems like there's a diff"
   ],
   "cell_type": "markdown",
   "metadata": {}
  }
 ]
}