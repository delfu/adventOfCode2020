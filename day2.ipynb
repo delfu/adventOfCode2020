{
 "metadata": {
  "language_info": {
   "codemirror_mode": {
    "name": "ipython",
    "version": 3
   },
   "file_extension": ".py",
   "mimetype": "text/x-python",
   "name": "python",
   "nbconvert_exporter": "python",
   "pygments_lexer": "ipython3",
   "version": "3.6.10-final"
  },
  "orig_nbformat": 2,
  "kernelspec": {
   "name": "python3",
   "display_name": "Python 3"
  }
 },
 "nbformat": 4,
 "nbformat_minor": 2,
 "cells": [
  {
   "source": [
    "Day 2 of the advent of code 2020\n",
    "\n",
    "This might seem like we need to reuse the code for later days. This is how we can import other jupyter notebooks:"
   ],
   "cell_type": "markdown",
   "metadata": {}
  },
  {
   "cell_type": "code",
   "execution_count": 1,
   "metadata": {},
   "outputs": [],
   "source": [
    "# import import_ipynb\n",
    "# import day1"
   ]
  },
  {
   "source": [
    "ok for actual day 2 questions:"
   ],
   "cell_type": "markdown",
   "metadata": {}
  },
  {
   "cell_type": "code",
   "execution_count": 15,
   "metadata": {},
   "outputs": [],
   "source": [
    "sample = \"\"\"\n",
    "1-3 a: abcde\n",
    "1-3 b: cdefg\n",
    "2-9 c: ccccccccc\n",
    "\"\"\".strip().split(\"\\n\")"
   ]
  },
  {
   "cell_type": "code",
   "execution_count": 16,
   "metadata": {},
   "outputs": [
    {
     "output_type": "stream",
     "name": "stdout",
     "text": [
      "True\nFalse\nTrue\n"
     ]
    }
   ],
   "source": [
    "def process(line):\n",
    "    line = line.split(\" \")\n",
    "    limits = list(map(int, line[0].split(\"-\")))\n",
    "    char = line[1][:-1]\n",
    "    password = line[2]\n",
    "    return limits, char, password\n",
    "\n",
    "def validate1(line):\n",
    "    limits, char, password = process(line)\n",
    "    count = 0\n",
    "    for c in password:\n",
    "        if c == char:\n",
    "            count +=1\n",
    "            if count > limits[1]:\n",
    "                return False\n",
    "    return count >= limits[0]\n",
    "\n",
    "def run_sample():\n",
    "    for line in sample:\n",
    "        print(validate1(line))\n",
    "run_sample()"
   ]
  },
  {
   "cell_type": "code",
   "execution_count": 21,
   "metadata": {},
   "outputs": [
    {
     "output_type": "stream",
     "name": "stdout",
     "text": [
      "importing Jupyter notebook from util.ipynb\n538\n"
     ]
    }
   ],
   "source": [
    "import import_ipynb\n",
    "from importlib import reload\n",
    "import util\n",
    "reload(util)\n",
    "def solution1():\n",
    "    result = [validate1(r) for r in util.input_reader('day2.input', 1)]\n",
    "    print(result.count(True))\n",
    "solution1()"
   ]
  },
  {
   "source": [
    "part 2"
   ],
   "cell_type": "markdown",
   "metadata": {}
  },
  {
   "cell_type": "code",
   "execution_count": 22,
   "metadata": {},
   "outputs": [
    {
     "output_type": "stream",
     "name": "stdout",
     "text": [
      "True\nFalse\nFalse\n"
     ]
    }
   ],
   "source": [
    "def validate2(line):\n",
    "    limits, char, password = process(line)\n",
    "    if password[limits[0] - 1] != password[limits[1] - 1] and (password[limits[0] - 1] == char or password[limits[1] - 1] == char):\n",
    "        return True\n",
    "    return False\n",
    "for line in sample:\n",
    "    print(validate2(line))"
   ]
  },
  {
   "cell_type": "code",
   "execution_count": 23,
   "metadata": {},
   "outputs": [
    {
     "output_type": "stream",
     "name": "stdout",
     "text": [
      "489\n"
     ]
    }
   ],
   "source": [
    "import import_ipynb\n",
    "import util\n",
    "\n",
    "def solution2():\n",
    "    result = [validate2(r) for r in util.input_reader('day2.input', 1)]\n",
    "    print(result.count(True))\n",
    "solution2()"
   ]
  }
 ]
}