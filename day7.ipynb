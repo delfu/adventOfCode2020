{
 "metadata": {
  "language_info": {
   "codemirror_mode": {
    "name": "ipython",
    "version": 3
   },
   "file_extension": ".py",
   "mimetype": "text/x-python",
   "name": "python",
   "nbconvert_exporter": "python",
   "pygments_lexer": "ipython3",
   "version": "3.6.10-final"
  },
  "orig_nbformat": 2,
  "kernelspec": {
   "name": "python3",
   "display_name": "Python 3"
  }
 },
 "nbformat": 4,
 "nbformat_minor": 2,
 "cells": [
  {
   "source": [
    "Day 7\n",
    "\n",
    "The input was in an annoying format. Instead of doing a bunch of string manipulation, i decided to try to write a vim script to preprocess the input file into a format that's easier to use (cases separated by `\\n`, same as the other problems. And each part of the case represent something different: `case[0]` is outer bag, `case[1:n]` are inner bags)\n",
    "\n",
    "The vimscript is just a file that contains `:` commands in vim. To run the script you run the `:so scriptFile.vim` command.\n",
    "\n",
    "Useful commands: \n",
    "- `$` to move to end of file\n",
    "- `r` to load a file into current location (this is useful if you're trying to load data into the script file instead of the other way around)"
   ],
   "cell_type": "markdown",
   "metadata": {}
  },
  {
   "cell_type": "code",
   "execution_count": 3,
   "metadata": {},
   "outputs": [
    {
     "output_type": "execute_result",
     "data": {
      "text/plain": [
       "252"
      ]
     },
     "metadata": {},
     "execution_count": 3
    }
   ],
   "source": [
    "from functools import reduce\n",
    "import import_ipynb\n",
    "import util\n",
    "import re\n",
    "\n",
    "def build_lookup():\n",
    "    lookup = {}\n",
    "    digit_finder = re.compile(\"(\\d+) (.*)\")\n",
    "    for case in util.input_reader('day7.input', -1, \"\"):\n",
    "        outer, *inner = case\n",
    "        if inner[0] == 'no other':\n",
    "            inner = None\n",
    "        else:\n",
    "            inner = {digit_finder.match(i).group(2): int(digit_finder.match(i).group(1)) if digit_finder.match(i) is not None else None for i in inner}\n",
    "        lookup[outer] = inner\n",
    "    return lookup\n",
    "\n",
    "def solution1():\n",
    "    lookup = build_lookup()\n",
    "    count = 0\n",
    "    for k in lookup:\n",
    "        count += 1 if walk(lookup, k) else 0\n",
    "    return count\n",
    "\n",
    "def walk(lookup, target):\n",
    "    if lookup[target] is None:\n",
    "        return False\n",
    "    if \"shiny gold\" in lookup[target]:\n",
    "        return True\n",
    "    return any([walk(lookup, i) for i in lookup[target] ])\n",
    "solution1()\n"
   ]
  },
  {
   "cell_type": "code",
   "execution_count": 2,
   "metadata": {},
   "outputs": [
    {
     "output_type": "execute_result",
     "data": {
      "text/plain": [
       "35487"
      ]
     },
     "metadata": {},
     "execution_count": 2
    }
   ],
   "source": [
    "def solution2():\n",
    "    lookup = build_lookup()\n",
    "    \n",
    "    def walk(look, at):\n",
    "        if look[at] is None:\n",
    "            return 1\n",
    "        return 1 + sum([look[at][child] * walk(look, child) for child in look[at]])\n",
    "    \n",
    "    return walk(lookup, \"shiny gold\") - 1\n",
    "\n",
    "solution2()"
   ]
  },
  {
   "cell_type": "code",
   "execution_count": null,
   "metadata": {},
   "outputs": [],
   "source": []
  }
 ]
}