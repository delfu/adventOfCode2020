{
 "metadata": {
  "language_info": {
   "codemirror_mode": {
    "name": "ipython",
    "version": 3
   },
   "file_extension": ".py",
   "mimetype": "text/x-python",
   "name": "python",
   "nbconvert_exporter": "python",
   "pygments_lexer": "ipython3",
   "version": "3.6.10-final"
  },
  "orig_nbformat": 2,
  "kernelspec": {
   "name": "python3",
   "display_name": "Python 3"
  }
 },
 "nbformat": 4,
 "nbformat_minor": 2,
 "cells": [
  {
   "source": [
    "Day 10"
   ],
   "cell_type": "markdown",
   "metadata": {}
  },
  {
   "cell_type": "code",
   "execution_count": 23,
   "metadata": {},
   "outputs": [
    {
     "output_type": "execute_result",
     "data": {
      "text/plain": [
       "2664"
      ]
     },
     "metadata": {},
     "execution_count": 23
    }
   ],
   "source": [
    "import import_ipynb\n",
    "import util\n",
    "\n",
    "def solution1():\n",
    "    adapters = sorted([int(case) for case in util.input_reader(\"day10.input\", 1)])\n",
    "    adapters  = adapters + [adapters[-1] + 3]\n",
    "\n",
    "    diff1 = 0\n",
    "    diff3 = 0\n",
    "    curr = 0\n",
    "    for a in adapters:\n",
    "        diff = a - curr\n",
    "        curr = a\n",
    "        if diff == 1:\n",
    "            diff1 += 1\n",
    "        elif diff == 3:\n",
    "            diff3 += 1\n",
    "\n",
    "    return diff1 * diff3\n",
    "\n",
    "solution1()\n",
    "\n"
   ]
  },
  {
   "source": [
    "The question boils down to the insight that if you can skip the next number, then that generates 2 branching path. If you brute force this it'll work but will be exponential time. So we memoize"
   ],
   "cell_type": "markdown",
   "metadata": {}
  },
  {
   "cell_type": "code",
   "execution_count": 22,
   "metadata": {},
   "outputs": [
    {
     "output_type": "execute_result",
     "data": {
      "text/plain": [
       "148098383347712"
      ]
     },
     "metadata": {},
     "execution_count": 22
    }
   ],
   "source": [
    "\n",
    "def solution2():\n",
    "    sorted_adapters = sorted([int(case) for case in util.input_reader(\"day10.input\", 1)])\n",
    "    sorted_adapters  = sorted_adapters + [sorted_adapters[-1] + 3]\n",
    "    adapters = [0] + list(sorted_adapters)\n",
    "    memo = {}\n",
    "    def helper(i):\n",
    "        if i in memo:\n",
    "            return memo[i]\n",
    "        if i >= len(adapters) - 2:\n",
    "            return 1\n",
    "        if i+3 < len(adapters) and adapters[i + 3] - adapters[i] <= 3:\n",
    "            m = helper(i+1) +  helper(i+2) + helper(i+3)\n",
    "            memo[i] = m\n",
    "            return m\n",
    "        elif adapters[i + 2] - adapters[i] <= 3:\n",
    "            m = helper(i+1) +  helper(i+2)\n",
    "            memo[i] = m\n",
    "            return m\n",
    "        m = helper(i+1)\n",
    "        memo[i] = m\n",
    "        return m\n",
    "\n",
    "    retval = helper(0)\n",
    "        \n",
    "    return memo[0]\n",
    "\n",
    "solution2()"
   ]
  },
  {
   "source": [
    "There's a difference between a recursive solution and a loop solution. With the current input the recusive stack will not be more than ~100 deep so it's feasible. But with more inputs this might overflow"
   ],
   "cell_type": "markdown",
   "metadata": {}
  },
  {
   "cell_type": "code",
   "execution_count": 26,
   "metadata": {},
   "outputs": [
    {
     "output_type": "execute_result",
     "data": {
      "text/plain": [
       "148098383347712"
      ]
     },
     "metadata": {},
     "execution_count": 26
    }
   ],
   "source": [
    "def solution2():\n",
    "    adapters = [0] + sorted([int(case) for case in util.input_reader('day10.input', 1)])\n",
    "    adapters += [adapters[-1] + 3]\n",
    "\n",
    "    memo = {} # we can either use a preallocated array or just a dict, w/e\n",
    "    memo[len(adapters) - 1] = 1\n",
    "    memo[len(adapters) - 2] = 1\n",
    "    memo[len(adapters) - 3] = 1\n",
    "\n",
    "    for i in range(len(adapters) - 4, -1, -1):\n",
    "        if adapters[i + 3] - adapters[i] <= 3:\n",
    "            memo[i] = memo[i+1] +  memo[i+2] + memo[i+3]\n",
    "        elif adapters[i + 2] - adapters[i] <= 3:\n",
    "            memo[i] = memo[i+1] +  memo[i+2]\n",
    "        else:\n",
    "            memo[i] = memo[i+1]\n",
    "    return memo[0]\n",
    "solution2()"
   ]
  }
 ]
}