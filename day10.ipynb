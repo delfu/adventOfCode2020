{
 "metadata": {
  "language_info": {
   "codemirror_mode": {
    "name": "ipython",
    "version": 3
   },
   "file_extension": ".py",
   "mimetype": "text/x-python",
   "name": "python",
   "nbconvert_exporter": "python",
   "pygments_lexer": "ipython3",
   "version": "3.6.10-final"
  },
  "orig_nbformat": 2,
  "kernelspec": {
   "name": "python3",
   "display_name": "Python 3"
  }
 },
 "nbformat": 4,
 "nbformat_minor": 2,
 "cells": [
  {
   "source": [
    "Day 10"
   ],
   "cell_type": "markdown",
   "metadata": {}
  },
  {
   "cell_type": "code",
   "execution_count": 2,
   "metadata": {},
   "outputs": [
    {
     "output_type": "stream",
     "name": "stdout",
     "text": [
      "importing Jupyter notebook from util.ipynb\n"
     ]
    },
    {
     "output_type": "execute_result",
     "data": {
      "text/plain": [
       "220"
      ]
     },
     "metadata": {},
     "execution_count": 2
    }
   ],
   "source": [
    "import import_ipynb\n",
    "import util\n",
    "\n",
    "def solution1():\n",
    "    adapters = sorted([int(case) for case in util.input_reader(\"day10.input\", 1)])\n",
    "    adapters  = adapters + [adapters[-1] + 3]\n",
    "\n",
    "    diff1 = 0\n",
    "    diff3 = 0\n",
    "    curr = 0\n",
    "    for a in adapters:\n",
    "        diff = a - curr\n",
    "        curr = a\n",
    "        if diff == 1:\n",
    "            diff1 += 1\n",
    "        elif diff == 3:\n",
    "            diff3 += 1\n",
    "\n",
    "    return diff1 * diff3\n",
    "\n",
    "solution1()\n",
    "\n"
   ]
  },
  {
   "cell_type": "code",
   "execution_count": 21,
   "metadata": {},
   "outputs": [
    {
     "output_type": "execute_result",
     "data": {
      "text/plain": [
       "19208"
      ]
     },
     "metadata": {},
     "execution_count": 21
    }
   ],
   "source": [
    "\n",
    "\n",
    "def solution2():\n",
    "    sorted_adapters = sorted([int(case) for case in util.input_reader(\"day10.input\", 1)])\n",
    "    sorted_adapters  = sorted_adapters + [sorted_adapters[-1] + 3]\n",
    "    adapters = [0] + list(sorted_adapters)\n",
    "    memo = {}\n",
    "    def helper(i):\n",
    "        if i in memo:\n",
    "            return memo[i]\n",
    "        if i >= len(adapters) - 2:\n",
    "            return 1\n",
    "        if i+3 < len(adapters) and adapters[i + 3] - adapters[i] <= 3:\n",
    "            m = helper(i+1) +  helper(i+2) + helper(i+3)\n",
    "            memo[i] = m\n",
    "            return m\n",
    "        elif adapters[i + 2] - adapters[i] <= 3:\n",
    "            m = helper(i+1) +  helper(i+2)\n",
    "            memo[i] = m\n",
    "            return m\n",
    "        m = helper(i+1)\n",
    "        memo[i] = m\n",
    "        return m\n",
    "\n",
    "    retval = helper(0)\n",
    "        \n",
    "    return memo[0]\n",
    "\n",
    "solution2()"
   ]
  },
  {
   "cell_type": "code",
   "execution_count": null,
   "metadata": {},
   "outputs": [],
   "source": []
  }
 ]
}