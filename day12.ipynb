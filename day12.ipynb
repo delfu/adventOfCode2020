{
 "metadata": {
  "language_info": {
   "codemirror_mode": {
    "name": "ipython",
    "version": 3
   },
   "file_extension": ".py",
   "mimetype": "text/x-python",
   "name": "python",
   "nbconvert_exporter": "python",
   "pygments_lexer": "ipython3",
   "version": "3.6.10-final"
  },
  "orig_nbformat": 2,
  "kernelspec": {
   "name": "python3",
   "display_name": "Python 3"
  }
 },
 "nbformat": 4,
 "nbformat_minor": 2,
 "cells": [
  {
   "source": [
    "Day 12"
   ],
   "cell_type": "markdown",
   "metadata": {}
  },
  {
   "cell_type": "code",
   "execution_count": 5,
   "metadata": {},
   "outputs": [
    {
     "output_type": "execute_result",
     "data": {
      "text/plain": [
       "2847"
      ]
     },
     "metadata": {},
     "execution_count": 5
    }
   ],
   "source": [
    "import import_ipynb\n",
    "import util\n",
    "\n",
    "def solution1():\n",
    "    movements = [[case[0], int(case[1:])] for case in util.input_reader(\"day12.input\", 1)]\n",
    "    x = 0\n",
    "    y = 0\n",
    "    angle = 0\n",
    "\n",
    "    for m in movements:\n",
    "        if m[0] == \"R\" or m[0] == \"L\":\n",
    "            angle += m[1] if m[0] == \"L\" else -m[1]\n",
    "            angle = angle % 360\n",
    "        elif m[0] == \"N\":\n",
    "            y += m[1]\n",
    "        elif m[0] == \"S\":\n",
    "            y -= m[1]\n",
    "        elif m[0] == \"E\":\n",
    "            x += m[1]\n",
    "        elif m[0] == \"W\":\n",
    "            x -= m[1]\n",
    "        elif m[0] == \"F\":\n",
    "            if angle == 0:\n",
    "                x += m[1]\n",
    "            elif angle == 90:\n",
    "                y += m[1]\n",
    "            elif angle == 180:\n",
    "                x -= m[1]\n",
    "            elif angle == 270:\n",
    "                y -= m[1]\n",
    "    \n",
    "    return abs(x) + abs(y)\n",
    "\n",
    "\n",
    "solution1()"
   ]
  },
  {
   "cell_type": "code",
   "execution_count": 10,
   "metadata": {},
   "outputs": [
    {
     "output_type": "execute_result",
     "data": {
      "text/plain": [
       "29839"
      ]
     },
     "metadata": {},
     "execution_count": 10
    }
   ],
   "source": [
    "def solution2():\n",
    "    movements = [[case[0], int(case[1:])] for case in util.input_reader(\"day12.input\", 1)]\n",
    "    x_waypoint = 10\n",
    "    y_waypoint = 1\n",
    "\n",
    "    x = 0\n",
    "    y = 0\n",
    "\n",
    "    for m in movements:\n",
    "        if m[0] == \"R\" or m[0] == \"L\":\n",
    "            angle = m[1] if m[0] == \"L\" else 360-m[1]\n",
    "            if angle == 90:\n",
    "                x_waypoint, y_waypoint = -y_waypoint, x_waypoint\n",
    "            elif angle == 180:\n",
    "                x_waypoint, y_waypoint = -x_waypoint, -y_waypoint\n",
    "            elif angle == 270:\n",
    "                x_waypoint, y_waypoint = y_waypoint, -x_waypoint\n",
    "            \n",
    "        elif m[0] == \"N\":\n",
    "            y_waypoint += m[1]\n",
    "        elif m[0] == \"S\":\n",
    "            y_waypoint -= m[1]\n",
    "        elif m[0] == \"E\":\n",
    "            x_waypoint += m[1]\n",
    "        elif m[0] == \"W\":\n",
    "            x_waypoint -= m[1]\n",
    "        elif m[0] == \"F\":\n",
    "            x += x_waypoint * m[1]\n",
    "            y += y_waypoint * m[1]\n",
    "    \n",
    "    return abs(x) + abs(y)\n",
    "solution2()"
   ]
  }
 ]
}